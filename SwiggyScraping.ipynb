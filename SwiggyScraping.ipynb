{
 "cells": [
  {
   "cell_type": "markdown",
   "metadata": {},
   "source": [
    "# Web Scraping Swiggy on Establishments Located in Manipal and Udupi"
   ]
  },
  {
   "cell_type": "code",
   "execution_count": 15,
   "metadata": {},
   "outputs": [],
   "source": [
    "from bs4 import BeautifulSoup\n",
    "import requests\n",
    "import csv\n",
    "import itertools\n",
    "\n",
    "allCities=[]\n",
    "\n",
    "#####  To scrape allCities in swiggy database    ####\n",
    "url=(\"https://www.swiggy.com/\")\n",
    "req=requests.get(url)\n",
    "soup=BeautifulSoup(req.text, \"html.parser\")\n",
    "for city in soup.findAll(\"a\", {\"class\": \"_3TjLz b-Hy9\"}):\n",
    "  allCities=allCities+list((city.text).split(\"\\n \"))\n",
    "\n",
    "\n",
    "testCities=['manipal','udupi']\n",
    "resturants=[]\n",
    "ratings=[]\n",
    "avgPrices=[]\n",
    "cuisines=[]\n",
    "result=[]\n",
    "\n",
    "#####  To scrape resturants in allCities    ####\n",
    "#for city in allCities:\n",
    "\n",
    "####    To scrape resturants in testCities    ####\n",
    "for city in testCities:\n",
    "  for page in range(1,20):\n",
    "      url=(\"https://www.swiggy.com/\"+city+\"?page=\"+str(page))\n",
    "      req=requests.get(url)\n",
    "      soup=BeautifulSoup(req.text, \"html.parser\")\n",
    "      for hotel_name in soup.findAll(\"div\", {\"class\": \"nA6kb\"}):\n",
    "        resturants=resturants+list((hotel_name.text).split(\"\\n \"))\n",
    "\n",
    "      for rating in soup.findAll(\"div\", {\"class\": \"_9uwBC\"}):\n",
    "        ratings=ratings+list((rating.text).split(\"\\n \"))\n",
    "\n",
    "      for avgPrice in soup.findAll(\"div\", {\"class\": \"nVWSi\"}):\n",
    "        avgPrices=avgPrices+list((avgPrice.text).split(\"\\n \"))\n",
    "\n",
    "      for cuisine in soup.findAll(\"div\", {\"class\": \"_1gURR\"}):\n",
    "        cuisines=cuisines+list((cuisine.text).split(\"\\n \"))\n",
    "\n",
    "\n",
    "\n",
    "  result=result+list(zip(itertools.repeat(city.capitalize()),resturants, ratings, avgPrices, cuisines)) \n",
    "\n",
    "####  Saving the data in CSV    ####\n",
    "filename='restaurants.csv'\n",
    "with open(filename, 'w', newline='', encoding=\"utf-8\") as f:\n",
    "    writer=csv.writer(f)\n",
    "    writer.writerow(['City','Restaurant', 'Ratings', 'Average Price', 'Cuisines'])\n",
    "    for res in result:\n",
    "        writer.writerow(res)\n",
    "    f.close()"
   ]
  },
  {
   "cell_type": "code",
   "execution_count": null,
   "metadata": {},
   "outputs": [],
   "source": []
  }
 ],
 "metadata": {
  "kernelspec": {
   "display_name": "Python 3",
   "language": "python",
   "name": "python3"
  },
  "language_info": {
   "codemirror_mode": {
    "name": "ipython",
    "version": 3
   },
   "file_extension": ".py",
   "mimetype": "text/x-python",
   "name": "python",
   "nbconvert_exporter": "python",
   "pygments_lexer": "ipython3",
   "version": "3.7.1"
  }
 },
 "nbformat": 4,
 "nbformat_minor": 4
}
